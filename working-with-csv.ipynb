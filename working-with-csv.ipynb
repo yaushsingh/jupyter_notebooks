{
 "cells": [
  {
   "cell_type": "code",
   "execution_count": 1,
   "id": "8f43eed0",
   "metadata": {},
   "outputs": [
    {
     "data": {
      "text/html": [
       "<div>\n",
       "<style scoped>\n",
       "    .dataframe tbody tr th:only-of-type {\n",
       "        vertical-align: middle;\n",
       "    }\n",
       "\n",
       "    .dataframe tbody tr th {\n",
       "        vertical-align: top;\n",
       "    }\n",
       "\n",
       "    .dataframe thead th {\n",
       "        text-align: right;\n",
       "    }\n",
       "</style>\n",
       "<table border=\"1\" class=\"dataframe\">\n",
       "  <thead>\n",
       "    <tr style=\"text-align: right;\">\n",
       "      <th></th>\n",
       "      <th>country</th>\n",
       "      <th>beer_servings</th>\n",
       "      <th>spirit_servings</th>\n",
       "      <th>wine_servings</th>\n",
       "      <th>total_litres_of_pure_alcohol</th>\n",
       "    </tr>\n",
       "  </thead>\n",
       "  <tbody>\n",
       "    <tr>\n",
       "      <th>0</th>\n",
       "      <td>Afghanistan</td>\n",
       "      <td>NaN</td>\n",
       "      <td>NaN</td>\n",
       "      <td>NaN</td>\n",
       "      <td>NaN</td>\n",
       "    </tr>\n",
       "    <tr>\n",
       "      <th>1</th>\n",
       "      <td>Albania</td>\n",
       "      <td>89.0</td>\n",
       "      <td>132.0</td>\n",
       "      <td>54.0</td>\n",
       "      <td>4.9</td>\n",
       "    </tr>\n",
       "    <tr>\n",
       "      <th>2</th>\n",
       "      <td>Algeria</td>\n",
       "      <td>25.0</td>\n",
       "      <td>NaN</td>\n",
       "      <td>14.0</td>\n",
       "      <td>0.7</td>\n",
       "    </tr>\n",
       "    <tr>\n",
       "      <th>3</th>\n",
       "      <td>Andorra</td>\n",
       "      <td>245.0</td>\n",
       "      <td>138.0</td>\n",
       "      <td>312.0</td>\n",
       "      <td>12.4</td>\n",
       "    </tr>\n",
       "    <tr>\n",
       "      <th>4</th>\n",
       "      <td>Angola</td>\n",
       "      <td>217.0</td>\n",
       "      <td>57.0</td>\n",
       "      <td>45.0</td>\n",
       "      <td>5.9</td>\n",
       "    </tr>\n",
       "    <tr>\n",
       "      <th>...</th>\n",
       "      <td>...</td>\n",
       "      <td>...</td>\n",
       "      <td>...</td>\n",
       "      <td>...</td>\n",
       "      <td>...</td>\n",
       "    </tr>\n",
       "    <tr>\n",
       "      <th>188</th>\n",
       "      <td>Venezuela</td>\n",
       "      <td>333.0</td>\n",
       "      <td>1.0</td>\n",
       "      <td>3.0</td>\n",
       "      <td>7.7</td>\n",
       "    </tr>\n",
       "    <tr>\n",
       "      <th>189</th>\n",
       "      <td>Vietnam</td>\n",
       "      <td>111.0</td>\n",
       "      <td>2.0</td>\n",
       "      <td>1.0</td>\n",
       "      <td>2.0</td>\n",
       "    </tr>\n",
       "    <tr>\n",
       "      <th>190</th>\n",
       "      <td>Yemen</td>\n",
       "      <td>6.0</td>\n",
       "      <td>NaN</td>\n",
       "      <td>NaN</td>\n",
       "      <td>0.1</td>\n",
       "    </tr>\n",
       "    <tr>\n",
       "      <th>191</th>\n",
       "      <td>Zambia</td>\n",
       "      <td>32.0</td>\n",
       "      <td>19.0</td>\n",
       "      <td>4.0</td>\n",
       "      <td>2.5</td>\n",
       "    </tr>\n",
       "    <tr>\n",
       "      <th>192</th>\n",
       "      <td>Zimbabwe</td>\n",
       "      <td>64.0</td>\n",
       "      <td>18.0</td>\n",
       "      <td>4.0</td>\n",
       "      <td>4.7</td>\n",
       "    </tr>\n",
       "  </tbody>\n",
       "</table>\n",
       "<p>193 rows × 5 columns</p>\n",
       "</div>"
      ],
      "text/plain": [
       "         country  beer_servings  spirit_servings  wine_servings  \\\n",
       "0    Afghanistan            NaN              NaN            NaN   \n",
       "1        Albania           89.0            132.0           54.0   \n",
       "2        Algeria           25.0              NaN           14.0   \n",
       "3        Andorra          245.0            138.0          312.0   \n",
       "4         Angola          217.0             57.0           45.0   \n",
       "..           ...            ...              ...            ...   \n",
       "188    Venezuela          333.0              1.0            3.0   \n",
       "189      Vietnam          111.0              2.0            1.0   \n",
       "190        Yemen            6.0              NaN            NaN   \n",
       "191       Zambia           32.0             19.0            4.0   \n",
       "192     Zimbabwe           64.0             18.0            4.0   \n",
       "\n",
       "     total_litres_of_pure_alcohol  \n",
       "0                             NaN  \n",
       "1                             4.9  \n",
       "2                             0.7  \n",
       "3                            12.4  \n",
       "4                             5.9  \n",
       "..                            ...  \n",
       "188                           7.7  \n",
       "189                           2.0  \n",
       "190                           0.1  \n",
       "191                           2.5  \n",
       "192                           4.7  \n",
       "\n",
       "[193 rows x 5 columns]"
      ]
     },
     "execution_count": 1,
     "metadata": {},
     "output_type": "execute_result"
    }
   ],
   "source": [
    "import pandas as pd\n",
    "pd.read_csv(\"~/Desktop/jupyter-notebooks/alcohol.csv\")"
   ]
  },
  {
   "cell_type": "code",
   "execution_count": 2,
   "id": "ea48f9d8",
   "metadata": {},
   "outputs": [
    {
     "data": {
      "text/html": [
       "<div>\n",
       "<style scoped>\n",
       "    .dataframe tbody tr th:only-of-type {\n",
       "        vertical-align: middle;\n",
       "    }\n",
       "\n",
       "    .dataframe tbody tr th {\n",
       "        vertical-align: top;\n",
       "    }\n",
       "\n",
       "    .dataframe thead th {\n",
       "        text-align: right;\n",
       "    }\n",
       "</style>\n",
       "<table border=\"1\" class=\"dataframe\">\n",
       "  <thead>\n",
       "    <tr style=\"text-align: right;\">\n",
       "      <th></th>\n",
       "      <th>country</th>\n",
       "      <th>wine_servings</th>\n",
       "    </tr>\n",
       "  </thead>\n",
       "  <tbody>\n",
       "    <tr>\n",
       "      <th>0</th>\n",
       "      <td>Afghanistan</td>\n",
       "      <td>NaN</td>\n",
       "    </tr>\n",
       "    <tr>\n",
       "      <th>1</th>\n",
       "      <td>Albania</td>\n",
       "      <td>54.0</td>\n",
       "    </tr>\n",
       "    <tr>\n",
       "      <th>2</th>\n",
       "      <td>Algeria</td>\n",
       "      <td>14.0</td>\n",
       "    </tr>\n",
       "    <tr>\n",
       "      <th>3</th>\n",
       "      <td>Andorra</td>\n",
       "      <td>312.0</td>\n",
       "    </tr>\n",
       "    <tr>\n",
       "      <th>4</th>\n",
       "      <td>Angola</td>\n",
       "      <td>45.0</td>\n",
       "    </tr>\n",
       "    <tr>\n",
       "      <th>...</th>\n",
       "      <td>...</td>\n",
       "      <td>...</td>\n",
       "    </tr>\n",
       "    <tr>\n",
       "      <th>188</th>\n",
       "      <td>Venezuela</td>\n",
       "      <td>3.0</td>\n",
       "    </tr>\n",
       "    <tr>\n",
       "      <th>189</th>\n",
       "      <td>Vietnam</td>\n",
       "      <td>1.0</td>\n",
       "    </tr>\n",
       "    <tr>\n",
       "      <th>190</th>\n",
       "      <td>Yemen</td>\n",
       "      <td>NaN</td>\n",
       "    </tr>\n",
       "    <tr>\n",
       "      <th>191</th>\n",
       "      <td>Zambia</td>\n",
       "      <td>4.0</td>\n",
       "    </tr>\n",
       "    <tr>\n",
       "      <th>192</th>\n",
       "      <td>Zimbabwe</td>\n",
       "      <td>4.0</td>\n",
       "    </tr>\n",
       "  </tbody>\n",
       "</table>\n",
       "<p>193 rows × 2 columns</p>\n",
       "</div>"
      ],
      "text/plain": [
       "         country  wine_servings\n",
       "0    Afghanistan            NaN\n",
       "1        Albania           54.0\n",
       "2        Algeria           14.0\n",
       "3        Andorra          312.0\n",
       "4         Angola           45.0\n",
       "..           ...            ...\n",
       "188    Venezuela            3.0\n",
       "189      Vietnam            1.0\n",
       "190        Yemen            NaN\n",
       "191       Zambia            4.0\n",
       "192     Zimbabwe            4.0\n",
       "\n",
       "[193 rows x 2 columns]"
      ]
     },
     "execution_count": 2,
     "metadata": {},
     "output_type": "execute_result"
    }
   ],
   "source": [
    "#specifying the number of columns needed\n",
    "pd.read_csv(\"alcohol.csv\", usecols = ['country', 'wine_servings'])"
   ]
  },
  {
   "cell_type": "code",
   "execution_count": 3,
   "id": "d08d2792",
   "metadata": {},
   "outputs": [],
   "source": [
    "#we can sepecify which column do we want as index label by index_col=\n",
    "alcohol = pd.read_csv(\"alcohol.csv\", usecols =['country','wine_servings'], index_col='country')"
   ]
  },
  {
   "cell_type": "code",
   "execution_count": 4,
   "id": "1f25918c",
   "metadata": {},
   "outputs": [
    {
     "data": {
      "text/html": [
       "<div>\n",
       "<style scoped>\n",
       "    .dataframe tbody tr th:only-of-type {\n",
       "        vertical-align: middle;\n",
       "    }\n",
       "\n",
       "    .dataframe tbody tr th {\n",
       "        vertical-align: top;\n",
       "    }\n",
       "\n",
       "    .dataframe thead th {\n",
       "        text-align: right;\n",
       "    }\n",
       "</style>\n",
       "<table border=\"1\" class=\"dataframe\">\n",
       "  <thead>\n",
       "    <tr style=\"text-align: right;\">\n",
       "      <th></th>\n",
       "      <th>wine_servings</th>\n",
       "    </tr>\n",
       "    <tr>\n",
       "      <th>country</th>\n",
       "      <th></th>\n",
       "    </tr>\n",
       "  </thead>\n",
       "  <tbody>\n",
       "    <tr>\n",
       "      <th>Afghanistan</th>\n",
       "      <td>NaN</td>\n",
       "    </tr>\n",
       "    <tr>\n",
       "      <th>Albania</th>\n",
       "      <td>54.0</td>\n",
       "    </tr>\n",
       "    <tr>\n",
       "      <th>Algeria</th>\n",
       "      <td>14.0</td>\n",
       "    </tr>\n",
       "    <tr>\n",
       "      <th>Andorra</th>\n",
       "      <td>312.0</td>\n",
       "    </tr>\n",
       "    <tr>\n",
       "      <th>Angola</th>\n",
       "      <td>45.0</td>\n",
       "    </tr>\n",
       "  </tbody>\n",
       "</table>\n",
       "</div>"
      ],
      "text/plain": [
       "             wine_servings\n",
       "country                   \n",
       "Afghanistan            NaN\n",
       "Albania               54.0\n",
       "Algeria               14.0\n",
       "Andorra              312.0\n",
       "Angola                45.0"
      ]
     },
     "execution_count": 4,
     "metadata": {},
     "output_type": "execute_result"
    }
   ],
   "source": [
    "alcohol.head()"
   ]
  },
  {
   "cell_type": "code",
   "execution_count": 5,
   "id": "a9aaa628",
   "metadata": {},
   "outputs": [
    {
     "data": {
      "text/plain": [
       "pandas.core.frame.DataFrame"
      ]
     },
     "execution_count": 5,
     "metadata": {},
     "output_type": "execute_result"
    }
   ],
   "source": [
    "type(alcohol)"
   ]
  },
  {
   "cell_type": "code",
   "execution_count": 6,
   "id": "2d860ae8",
   "metadata": {},
   "outputs": [],
   "source": [
    "#squeeze parameter can convert csv table into panda series if csv is single column dataframe\n",
    "alcohol = pd.read_csv(\"alcohol.csv\",usecols=['country','wine_servings'],index_col='country',squeeze=True)"
   ]
  },
  {
   "cell_type": "code",
   "execution_count": 7,
   "id": "fad28910",
   "metadata": {},
   "outputs": [
    {
     "data": {
      "text/plain": [
       "pandas.core.series.Series"
      ]
     },
     "execution_count": 7,
     "metadata": {},
     "output_type": "execute_result"
    }
   ],
   "source": [
    "type(alcohol)"
   ]
  },
  {
   "cell_type": "markdown",
   "id": "b368898e",
   "metadata": {},
   "source": [
    "#### Series sizing"
   ]
  },
  {
   "cell_type": "code",
   "execution_count": 8,
   "id": "dbbdea60",
   "metadata": {},
   "outputs": [
    {
     "data": {
      "text/plain": [
       "193"
      ]
     },
     "execution_count": 8,
     "metadata": {},
     "output_type": "execute_result"
    }
   ],
   "source": [
    "alcohol.size"
   ]
  },
  {
   "cell_type": "code",
   "execution_count": 9,
   "id": "c133021b",
   "metadata": {},
   "outputs": [
    {
     "data": {
      "text/plain": [
       "array([ nan,  54.,  14., 312.,  45.,  45., 221.,  11., 212., 191.,   5.,\n",
       "        51.,   7.,  nan,  36.,  42., 212.,   8.,  13.,  nan,   8.,   8.,\n",
       "        35.,  16.,   1.,  94.,   7.,  nan,   7.,  16.,   1.,   4.,   1.,\n",
       "         1.,   1., 172.,   8.,   3.,   1.,   9.,  74.,  11., 254.,   5.,\n",
       "       113., 134.,  nan,   1., 278.,   3.,  26.,   9.,   3.,   1.,   2.,\n",
       "       233.,  nan,  59.,  nan,   1.,  97.,  37.,  59.,   1., 149., 175.,\n",
       "         1., 218.,  28.,   2.,   2.,  21.,   1.,   1.,   2., 185.,  78.,\n",
       "        nan,  nan,  nan,  nan, 165.,   9., 237.,   9.,  16.,   1.,  12.,\n",
       "         2.,   1.,  nan,   6., 123.,  62.,  31.,  nan,   2.,  nan,  56.,\n",
       "       271.,   4.,   1.,  nan,  nan,   1.,  12.,  nan,  nan,  18.,   5.,\n",
       "        18.,  nan,   8., 128.,   1.,   5.,  nan,   1.,   8.,  nan,  19.,\n",
       "       175.,   1.,   1.,   2.,   7., 129.,   1.,  nan,  23.,  18.,   1.,\n",
       "        74.,  21.,   1.,  56., 339.,   7.,   9.,  18., 167.,  73.,  nan,\n",
       "        32.,  71.,  11.,  24.,  nan,  14.,  nan,   7., 127.,  51.,   2.,\n",
       "        11., 116., 276.,   1.,  nan,  81., 112.,  nan,  nan,   7.,   2.,\n",
       "       186.,  28.,  16.,  nan,   1.,  86.,   4.,  19.,   5.,   7.,   2.,\n",
       "         7.,  32.,   9.,  nan,  45.,   5., 195.,   1.,  84.,  22.,   8.,\n",
       "        11.,   3.,   1.,  nan,   4.,   4.])"
      ]
     },
     "execution_count": 9,
     "metadata": {},
     "output_type": "execute_result"
    }
   ],
   "source": [
    "#gives values in form of an array\n",
    "alcohol.values"
   ]
  },
  {
   "cell_type": "code",
   "execution_count": 10,
   "id": "2a8e70b1",
   "metadata": {},
   "outputs": [
    {
     "data": {
      "text/plain": [
       "Index(['Afghanistan', 'Albania', 'Algeria', 'Andorra', 'Angola',\n",
       "       'Antigua & Barbuda', 'Argentina', 'Armenia', 'Australia', 'Austria',\n",
       "       ...\n",
       "       'Tanzania', 'USA', 'Uruguay', 'Uzbekistan', 'Vanuatu', 'Venezuela',\n",
       "       'Vietnam', 'Yemen', 'Zambia', 'Zimbabwe'],\n",
       "      dtype='object', name='country', length=193)"
      ]
     },
     "execution_count": 10,
     "metadata": {},
     "output_type": "execute_result"
    }
   ],
   "source": [
    "#index is also available in Series data structure\n",
    "alcohol.index"
   ]
  },
  {
   "cell_type": "code",
   "execution_count": 11,
   "id": "34b24c95",
   "metadata": {},
   "outputs": [
    {
     "data": {
      "text/plain": [
       "True"
      ]
     },
     "execution_count": 11,
     "metadata": {},
     "output_type": "execute_result"
    }
   ],
   "source": [
    "alcohol.values.size == alcohol.index.size"
   ]
  },
  {
   "cell_type": "code",
   "execution_count": 12,
   "id": "5175af39",
   "metadata": {},
   "outputs": [
    {
     "data": {
      "text/plain": [
       "(193,)"
      ]
     },
     "execution_count": 12,
     "metadata": {},
     "output_type": "execute_result"
    }
   ],
   "source": [
    "# .shape attribute gives a tupple of dimensions for series i.e. 1D\n",
    "alcohol.shape"
   ]
  },
  {
   "cell_type": "markdown",
   "id": "0865ed48",
   "metadata": {},
   "source": [
    "### Unique Values and Series Monotonicity"
   ]
  },
  {
   "cell_type": "code",
   "execution_count": 13,
   "id": "02225d43",
   "metadata": {},
   "outputs": [
    {
     "data": {
      "text/plain": [
       "False"
      ]
     },
     "execution_count": 13,
     "metadata": {},
     "output_type": "execute_result"
    }
   ],
   "source": [
    "# .is_unique is False for alcohol series becuase some country have same wine_servings\n",
    "alcohol.is_unique"
   ]
  },
  {
   "cell_type": "code",
   "execution_count": 14,
   "id": "b17eae9d",
   "metadata": {},
   "outputs": [
    {
     "data": {
      "text/plain": [
       "True"
      ]
     },
     "execution_count": 14,
     "metadata": {},
     "output_type": "execute_result"
    }
   ],
   "source": [
    "#checks the unqiue value of first five elements\n",
    "alcohol.head().is_unique"
   ]
  },
  {
   "cell_type": "code",
   "execution_count": 15,
   "id": "8a8706ff",
   "metadata": {},
   "outputs": [
    {
     "data": {
      "text/plain": [
       "71"
      ]
     },
     "execution_count": 15,
     "metadata": {},
     "output_type": "execute_result"
    }
   ],
   "source": [
    "#instead of getting boolean we can get no. of unqiue datas in series as\n",
    "#remember the () bracket here as it is method while .is_unique is property\n",
    "alcohol.nunique()"
   ]
  },
  {
   "cell_type": "code",
   "execution_count": 16,
   "id": "8089b8c4",
   "metadata": {},
   "outputs": [
    {
     "data": {
      "text/plain": [
       "72"
      ]
     },
     "execution_count": 16,
     "metadata": {},
     "output_type": "execute_result"
    }
   ],
   "source": [
    "# .nunique() gives the number one less than the actual unique datas\n",
    "# setting (dropna = False) \n",
    "alcohol.nunique(dropna = False )"
   ]
  },
  {
   "cell_type": "markdown",
   "id": "82bd9d09",
   "metadata": {},
   "source": [
    " #### Monotonocity \n",
    " :means the function keeps the given order"
   ]
  },
  {
   "cell_type": "code",
   "execution_count": 17,
   "id": "5bd9925b",
   "metadata": {},
   "outputs": [
    {
     "data": {
      "text/plain": [
       "True"
      ]
     },
     "execution_count": 17,
     "metadata": {},
     "output_type": "execute_result"
    }
   ],
   "source": [
    "pd.Series([1,2,3]).is_monotonic"
   ]
  },
  {
   "cell_type": "code",
   "execution_count": 18,
   "id": "77486b36",
   "metadata": {},
   "outputs": [
    {
     "data": {
      "text/plain": [
       "True"
      ]
     },
     "execution_count": 18,
     "metadata": {},
     "output_type": "execute_result"
    }
   ],
   "source": [
    "#though values are stagnant after sometime \n",
    "pd.Series([1,2,3,3,3,3,3]).is_monotonic"
   ]
  },
  {
   "cell_type": "code",
   "execution_count": 19,
   "id": "69da154e",
   "metadata": {},
   "outputs": [
    {
     "data": {
      "text/plain": [
       "True"
      ]
     },
     "execution_count": 19,
     "metadata": {},
     "output_type": "execute_result"
    }
   ],
   "source": [
    "pd.Series([1,2,3,3,3,3,4,5,100]).is_monotonic"
   ]
  },
  {
   "cell_type": "code",
   "execution_count": 20,
   "id": "4ce17f3d",
   "metadata": {},
   "outputs": [
    {
     "data": {
      "text/plain": [
       "False"
      ]
     },
     "execution_count": 20,
     "metadata": {},
     "output_type": "execute_result"
    }
   ],
   "source": [
    "#but if the acending order is not followed than\n",
    "pd.Series([1,2,3,3,3,3,4,5,100,99]).is_monotonic"
   ]
  },
  {
   "cell_type": "code",
   "execution_count": 21,
   "id": "f65aabed",
   "metadata": {},
   "outputs": [
    {
     "data": {
      "text/plain": [
       "True"
      ]
     },
     "execution_count": 21,
     "metadata": {},
     "output_type": "execute_result"
    }
   ],
   "source": [
    "pd.Series([1,2,3,3,3,3,4,78,100]).is_monotonic_increasing"
   ]
  },
  {
   "cell_type": "code",
   "execution_count": 22,
   "id": "fec378ab",
   "metadata": {},
   "outputs": [
    {
     "data": {
      "text/plain": [
       "False"
      ]
     },
     "execution_count": 22,
     "metadata": {},
     "output_type": "execute_result"
    }
   ],
   "source": [
    "#if we reverse our list than .is_monotonic_increasing gives False\n",
    "pd.Series(reversed([1,2,3,3,3,3,4,78,100])).is_monotonic_increasing"
   ]
  },
  {
   "cell_type": "markdown",
   "id": "ca929063",
   "metadata": {},
   "source": [
    "### Count() method"
   ]
  },
  {
   "cell_type": "code",
   "execution_count": 23,
   "id": "4de0271c",
   "metadata": {},
   "outputs": [
    {
     "data": {
      "text/plain": [
       "162"
      ]
     },
     "execution_count": 23,
     "metadata": {},
     "output_type": "execute_result"
    }
   ],
   "source": [
    "alcohol.count()"
   ]
  },
  {
   "cell_type": "code",
   "execution_count": 24,
   "id": "df25e932",
   "metadata": {},
   "outputs": [
    {
     "data": {
      "text/plain": [
       "193"
      ]
     },
     "execution_count": 24,
     "metadata": {},
     "output_type": "execute_result"
    }
   ],
   "source": [
    "alcohol.size"
   ]
  },
  {
   "cell_type": "markdown",
   "id": "d4f1f92d",
   "metadata": {},
   "source": [
    "##### Why there is the difference in .size and .count() method?\n",
    " Because the count method returns number of non-null values of Series \n",
    " i.e it excludes NaN values from our data"
   ]
  },
  {
   "cell_type": "code",
   "execution_count": 25,
   "id": "62a22877",
   "metadata": {},
   "outputs": [
    {
     "data": {
      "text/plain": [
       "True"
      ]
     },
     "execution_count": 25,
     "metadata": {},
     "output_type": "execute_result"
    }
   ],
   "source": [
    "# .hasnans checks if the Series has NaN values\n",
    "alcohol.hasnans"
   ]
  },
  {
   "cell_type": "code",
   "execution_count": 26,
   "id": "8f931586",
   "metadata": {},
   "outputs": [
    {
     "data": {
      "text/plain": [
       "country\n",
       "Afghanistan     True\n",
       "Albania        False\n",
       "Algeria        False\n",
       "Andorra        False\n",
       "Angola         False\n",
       "               ...  \n",
       "Venezuela      False\n",
       "Vietnam        False\n",
       "Yemen           True\n",
       "Zambia         False\n",
       "Zimbabwe       False\n",
       "Name: wine_servings, Length: 193, dtype: bool"
      ]
     },
     "execution_count": 26,
     "metadata": {},
     "output_type": "execute_result"
    }
   ],
   "source": [
    "#gives boolean whether each index label has NaN values \n",
    "#returns True for the data that has null values\n",
    "alcohol.isnull()"
   ]
  },
  {
   "cell_type": "code",
   "execution_count": 27,
   "id": "cae89ac0",
   "metadata": {},
   "outputs": [
    {
     "data": {
      "text/plain": [
       "country\n",
       "Afghanistan        NaN\n",
       "Bangladesh         NaN\n",
       "Bhutan             NaN\n",
       "Burundi            NaN\n",
       "North Korea        NaN\n",
       "Eritrea            NaN\n",
       "Ethiopia           NaN\n",
       "India              NaN\n",
       "Indonesia          NaN\n",
       "Iran               NaN\n",
       "Iraq               NaN\n",
       "Kuwait             NaN\n",
       "Lesotho            NaN\n",
       "Libya              NaN\n",
       "Malaysia           NaN\n",
       "Maldives           NaN\n",
       "Marshall Islands   NaN\n",
       "Mauritania         NaN\n",
       "Monaco             NaN\n",
       "Myanmar            NaN\n",
       "Nepal              NaN\n",
       "Pakistan           NaN\n",
       "Rwanda             NaN\n",
       "San Marino         NaN\n",
       "Saudi Arabia       NaN\n",
       "Somalia            NaN\n",
       "Sri Lanka          NaN\n",
       "Sudan              NaN\n",
       "Tajikistan         NaN\n",
       "Uganda             NaN\n",
       "Yemen              NaN\n",
       "Name: wine_servings, dtype: float64"
      ]
     },
     "execution_count": 27,
     "metadata": {},
     "output_type": "execute_result"
    }
   ],
   "source": [
    "#using indexing and and boolean mask of alcohol.isnull() we cn get series that have NaN values\n",
    "alcohol.loc[alcohol.isnull()]"
   ]
  },
  {
   "cell_type": "code",
   "execution_count": 28,
   "id": "8c5fe65b",
   "metadata": {},
   "outputs": [
    {
     "data": {
      "text/plain": [
       "Index(['Afghanistan', 'Bangladesh', 'Bhutan', 'Burundi', 'North Korea',\n",
       "       'Eritrea', 'Ethiopia', 'India', 'Indonesia', 'Iran', 'Iraq', 'Kuwait',\n",
       "       'Lesotho', 'Libya', 'Malaysia', 'Maldives', 'Marshall Islands',\n",
       "       'Mauritania', 'Monaco', 'Myanmar', 'Nepal', 'Pakistan', 'Rwanda',\n",
       "       'San Marino', 'Saudi Arabia', 'Somalia', 'Sri Lanka', 'Sudan',\n",
       "       'Tajikistan', 'Uganda', 'Yemen'],\n",
       "      dtype='object', name='country')"
      ]
     },
     "execution_count": 28,
     "metadata": {},
     "output_type": "execute_result"
    }
   ],
   "source": [
    "alcohol.loc[alcohol.isnull()].index"
   ]
  },
  {
   "cell_type": "code",
   "execution_count": 29,
   "id": "2e60426f",
   "metadata": {},
   "outputs": [
    {
     "data": {
      "text/plain": [
       "pandas.core.indexes.base.Index"
      ]
     },
     "execution_count": 29,
     "metadata": {},
     "output_type": "execute_result"
    }
   ],
   "source": [
    "type(alcohol.loc[alcohol.isnull()].index)"
   ]
  },
  {
   "cell_type": "code",
   "execution_count": 30,
   "id": "e6e0839b",
   "metadata": {},
   "outputs": [
    {
     "data": {
      "text/plain": [
       "['Afghanistan',\n",
       " 'Bangladesh',\n",
       " 'Bhutan',\n",
       " 'Burundi',\n",
       " 'North Korea',\n",
       " 'Eritrea',\n",
       " 'Ethiopia',\n",
       " 'India',\n",
       " 'Indonesia',\n",
       " 'Iran',\n",
       " 'Iraq',\n",
       " 'Kuwait',\n",
       " 'Lesotho',\n",
       " 'Libya',\n",
       " 'Malaysia',\n",
       " 'Maldives',\n",
       " 'Marshall Islands',\n",
       " 'Mauritania',\n",
       " 'Monaco',\n",
       " 'Myanmar',\n",
       " 'Nepal',\n",
       " 'Pakistan',\n",
       " 'Rwanda',\n",
       " 'San Marino',\n",
       " 'Saudi Arabia',\n",
       " 'Somalia',\n",
       " 'Sri Lanka',\n",
       " 'Sudan',\n",
       " 'Tajikistan',\n",
       " 'Uganda',\n",
       " 'Yemen']"
      ]
     },
     "execution_count": 30,
     "metadata": {},
     "output_type": "execute_result"
    }
   ],
   "source": [
    "#converting values thatcontaon null-values fromSeries into python list\n",
    "list(alcohol.loc[alcohol.isnull()].index)"
   ]
  },
  {
   "cell_type": "code",
   "execution_count": 31,
   "id": "25e9e166",
   "metadata": {},
   "outputs": [
    {
     "data": {
      "text/plain": [
       "31"
      ]
     },
     "execution_count": 31,
     "metadata": {},
     "output_type": "execute_result"
    }
   ],
   "source": [
    "#to count the null in Series we can use\n",
    "# len(list(alcohol.loc[alcohol.isnull()].index))\n",
    "#more pandorable way is\n",
    "alcohol.isnull().sum()\n",
    "#we  sum the boolean of .isnull() which is equivalent to sum of 1's and 0's"
   ]
  },
  {
   "cell_type": "code",
   "execution_count": 32,
   "id": "38bd06ed",
   "metadata": {},
   "outputs": [],
   "source": [
    "all = alcohol.size\n",
    "non_nulls =alcohol.count()\n",
    "nulls = alcohol.isnull().sum()\n",
    "# can also be used .isna().sum()"
   ]
  },
  {
   "cell_type": "code",
   "execution_count": 33,
   "id": "46b5d4b9",
   "metadata": {},
   "outputs": [
    {
     "data": {
      "text/plain": [
       "True"
      ]
     },
     "execution_count": 33,
     "metadata": {},
     "output_type": "execute_result"
    }
   ],
   "source": [
    "all == non_nulls + nulls"
   ]
  },
  {
   "cell_type": "code",
   "execution_count": null,
   "id": "826b0b70",
   "metadata": {},
   "outputs": [],
   "source": []
  }
 ],
 "metadata": {
  "kernelspec": {
   "display_name": "Python 3",
   "language": "python",
   "name": "python3"
  },
  "language_info": {
   "codemirror_mode": {
    "name": "ipython",
    "version": 3
   },
   "file_extension": ".py",
   "mimetype": "text/x-python",
   "name": "python",
   "nbconvert_exporter": "python",
   "pygments_lexer": "ipython3",
   "version": "3.6.9"
  }
 },
 "nbformat": 4,
 "nbformat_minor": 5
}
