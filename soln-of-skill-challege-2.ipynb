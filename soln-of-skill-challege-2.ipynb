{
 "cells": [
  {
   "cell_type": "code",
   "execution_count": 1,
   "id": "38a62899",
   "metadata": {},
   "outputs": [],
   "source": [
    "import pandas as pd\n"
   ]
  },
  {
   "cell_type": "code",
   "execution_count": 2,
   "id": "214b51da",
   "metadata": {},
   "outputs": [],
   "source": [
    " alcohol = pd.read_csv('alcohol.csv', usecols= ['country','wine_servings'],index_col='country', squeeze= True)"
   ]
  },
  {
   "cell_type": "code",
   "execution_count": 3,
   "id": "5fbd2e3e",
   "metadata": {
    "scrolled": true
   },
   "outputs": [],
   "source": [
    "#seperating thenot nulls values\n",
    "#creating a boolean mask from alcohol.notnull()\n",
    "# .loc creates the Series by boolean mask\n",
    "wine_servings = alcohol.loc[alcohol.notnull()]"
   ]
  },
  {
   "cell_type": "code",
   "execution_count": 4,
   "id": "82241938",
   "metadata": {},
   "outputs": [
    {
     "data": {
      "text/plain": [
       "8221.0"
      ]
     },
     "execution_count": 4,
     "metadata": {},
     "output_type": "execute_result"
    }
   ],
   "source": [
    "#adding all the non nulls values\n",
    "wine_servings.sum()"
   ]
  },
  {
   "cell_type": "code",
   "execution_count": 5,
   "id": "3aeaf1d6",
   "metadata": {},
   "outputs": [],
   "source": [
    "#creating a boolean mask for specified range\n",
    "bull = [True if i < 100 else False for i in wine_servings ]"
   ]
  },
  {
   "cell_type": "code",
   "execution_count": 6,
   "id": "e6b8289b",
   "metadata": {},
   "outputs": [],
   "source": [
    "#adding the values of Series that is accessed by boolean mask\n",
    "countries_total = wine_servings[bull].sum()"
   ]
  },
  {
   "cell_type": "code",
   "execution_count": 7,
   "id": "6e68b118",
   "metadata": {},
   "outputs": [
    {
     "data": {
      "text/plain": [
       "2416.0"
      ]
     },
     "execution_count": 7,
     "metadata": {},
     "output_type": "execute_result"
    }
   ],
   "source": [
    "countries_total"
   ]
  },
  {
   "cell_type": "code",
   "execution_count": 8,
   "id": "321ffbbb",
   "metadata": {},
   "outputs": [
    {
     "data": {
      "text/plain": [
       "2416.0"
      ]
     },
     "execution_count": 8,
     "metadata": {},
     "output_type": "execute_result"
    }
   ],
   "source": [
    "#wine_servings < 100 creates boolean mask\n",
    "# then used by wine_seriving series as indexing\n",
    "# .sum() adds all the series obtained after indexing\n",
    "#[] is necessary for the boolean mask to create\n",
    "wine_servings[wine_servings < 100].sum()"
   ]
  },
  {
   "cell_type": "code",
   "execution_count": 9,
   "id": "0bab7217",
   "metadata": {},
   "outputs": [
    {
     "data": {
      "text/plain": [
       "country\n",
       "Albania               True\n",
       "Algeria               True\n",
       "Andorra              False\n",
       "Angola                True\n",
       "Antigua & Barbuda     True\n",
       "                     ...  \n",
       "Vanuatu               True\n",
       "Venezuela             True\n",
       "Vietnam               True\n",
       "Zambia                True\n",
       "Zimbabwe              True\n",
       "Name: wine_servings, Length: 162, dtype: bool"
      ]
     },
     "execution_count": 9,
     "metadata": {},
     "output_type": "execute_result"
    }
   ],
   "source": [
    "wine_servings < 100\n"
   ]
  },
  {
   "cell_type": "code",
   "execution_count": null,
   "id": "0fe7844d",
   "metadata": {},
   "outputs": [],
   "source": []
  }
 ],
 "metadata": {
  "kernelspec": {
   "display_name": "Python 3",
   "language": "python",
   "name": "python3"
  },
  "language_info": {
   "codemirror_mode": {
    "name": "ipython",
    "version": 3
   },
   "file_extension": ".py",
   "mimetype": "text/x-python",
   "name": "python",
   "nbconvert_exporter": "python",
   "pygments_lexer": "ipython3",
   "version": "3.6.9"
  }
 },
 "nbformat": 4,
 "nbformat_minor": 5
}
