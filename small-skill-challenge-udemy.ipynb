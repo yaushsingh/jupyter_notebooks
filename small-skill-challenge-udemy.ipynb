{
 "cells": [
  {
   "cell_type": "code",
   "execution_count": 20,
   "id": "f0c5033d",
   "metadata": {},
   "outputs": [],
   "source": [
    "import pandas as pd\n",
    "sqr_list = [x**2 for x in range(100)]"
   ]
  },
  {
   "cell_type": "code",
   "execution_count": 26,
   "id": "12eb6290",
   "metadata": {},
   "outputs": [],
   "source": [
    "squares = pd.Series(sqr_list)\n",
    "#without creating list first we can directly create pd Series as\n",
    "#squares = pd.Series(data=[i**2 for i in range(100)])"
   ]
  },
  {
   "cell_type": "code",
   "execution_count": 27,
   "id": "8eff17c1",
   "metadata": {},
   "outputs": [],
   "source": [
    "#last three item from square bracket indexing\n",
    "bsq = squares[-3:]\n",
    "#square.iloc[-3:]"
   ]
  },
  {
   "cell_type": "code",
   "execution_count": 28,
   "id": "281f7b99",
   "metadata": {},
   "outputs": [],
   "source": [
    " #last three item using .tail() method\n",
    "tail_squares = squares.tail(3)\n",
    "#squares.tail(n= 3)"
   ]
  },
  {
   "cell_type": "code",
   "execution_count": 29,
   "id": "65423241",
   "metadata": {},
   "outputs": [
    {
     "data": {
      "text/plain": [
       "True"
      ]
     },
     "execution_count": 29,
     "metadata": {},
     "output_type": "execute_result"
    }
   ],
   "source": [
    "bsq.equals(tail_squares)"
   ]
  },
  {
   "cell_type": "code",
   "execution_count": 31,
   "id": "b677274d",
   "metadata": {},
   "outputs": [
    {
     "data": {
      "text/plain": [
       "97    True\n",
       "98    True\n",
       "99    True\n",
       "dtype: bool"
      ]
     },
     "execution_count": 31,
     "metadata": {},
     "output_type": "execute_result"
    }
   ],
   "source": [
    "#we will get element wise comparison\n",
    "bsq == tail_squares"
   ]
  },
  {
   "cell_type": "code",
   "execution_count": null,
   "id": "4ec96b18",
   "metadata": {},
   "outputs": [],
   "source": []
  }
 ],
 "metadata": {
  "kernelspec": {
   "display_name": "Python 3",
   "language": "python",
   "name": "python3"
  },
  "language_info": {
   "codemirror_mode": {
    "name": "ipython",
    "version": 3
   },
   "file_extension": ".py",
   "mimetype": "text/x-python",
   "name": "python",
   "nbconvert_exporter": "python",
   "pygments_lexer": "ipython3",
   "version": "3.6.9"
  }
 },
 "nbformat": 4,
 "nbformat_minor": 5
}
