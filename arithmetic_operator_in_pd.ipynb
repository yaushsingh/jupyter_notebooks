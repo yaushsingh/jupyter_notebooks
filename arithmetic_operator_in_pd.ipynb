{
 "cells": [
  {
   "cell_type": "code",
   "execution_count": 16,
   "id": "858735f3",
   "metadata": {},
   "outputs": [],
   "source": [
    "import pandas as pd\n",
    "alcohol = pd.read_csv(\"alcohol.csv\", usecols = [\"country\", \"wine_servings\"], index_col= \"country\", squeeze = \"True\")"
   ]
  },
  {
   "cell_type": "code",
   "execution_count": 18,
   "id": "457c557b",
   "metadata": {},
   "outputs": [],
   "source": [
    "fifty_plus = alcohol[alcohol>50]"
   ]
  },
  {
   "cell_type": "code",
   "execution_count": 19,
   "id": "35a28257",
   "metadata": {},
   "outputs": [
    {
     "data": {
      "text/plain": [
       "country\n",
       "Albania       54.0\n",
       "Andorra      312.0\n",
       "Argentina    221.0\n",
       "Australia    212.0\n",
       "Austria      191.0\n",
       "Name: wine_servings, dtype: float64"
      ]
     },
     "execution_count": 19,
     "metadata": {},
     "output_type": "execute_result"
    }
   ],
   "source": [
    "fifty_plus.head()"
   ]
  },
  {
   "cell_type": "code",
   "execution_count": 20,
   "id": "5efcf9cf",
   "metadata": {},
   "outputs": [
    {
     "data": {
      "text/plain": [
       "48"
      ]
     },
     "execution_count": 20,
     "metadata": {},
     "output_type": "execute_result"
    }
   ],
   "source": [
    "fifty_plus.count()"
   ]
  },
  {
   "cell_type": "code",
   "execution_count": 21,
   "id": "f6cd0e11",
   "metadata": {},
   "outputs": [
    {
     "data": {
      "text/plain": [
       "country\n",
       "Bahamas                51.0\n",
       "Seychelles             51.0\n",
       "Albania                54.0\n",
       "Lithuania              56.0\n",
       "Poland                 56.0\n",
       "Estonia                59.0\n",
       "Gabon                  59.0\n",
       "Latvia                 62.0\n",
       "St. Lucia              71.0\n",
       "Russian Federation     73.0\n",
       "Cook Islands           74.0\n",
       "Paraguay               74.0\n",
       "Iceland                78.0\n",
       "South Africa           81.0\n",
       "USA                    84.0\n",
       "Macedonia              86.0\n",
       "Bulgaria               94.0\n",
       "Finland                97.0\n",
       "Spain                 112.0\n",
       "Cyprus                113.0\n",
       "Name: wine_servings, dtype: float64"
      ]
     },
     "execution_count": 21,
     "metadata": {},
     "output_type": "execute_result"
    }
   ],
   "source": [
    "fifty_plus.nsmallest(20)"
   ]
  },
  {
   "cell_type": "code",
   "execution_count": 24,
   "id": "fe3889d9",
   "metadata": {},
   "outputs": [
    {
     "data": {
      "text/plain": [
       "count     20.000000\n",
       "mean      74.250000\n",
       "std       19.072921\n",
       "min       51.000000\n",
       "25%       58.250000\n",
       "50%       73.500000\n",
       "75%       84.500000\n",
       "max      113.000000\n",
       "Name: wine_servings, dtype: float64"
      ]
     },
     "execution_count": 24,
     "metadata": {},
     "output_type": "execute_result"
    }
   ],
   "source": [
    " fifty_plus.nsmallest(20).describe()"
   ]
  },
  {
   "cell_type": "code",
   "execution_count": 26,
   "id": "b3671351",
   "metadata": {},
   "outputs": [
    {
     "data": {
      "text/plain": [
       "73.5"
      ]
     },
     "execution_count": 26,
     "metadata": {},
     "output_type": "execute_result"
    }
   ],
   "source": [
    "fifty_plus.nsmallest(20).median()"
   ]
  },
  {
   "cell_type": "markdown",
   "id": "a7a2598c",
   "metadata": {},
   "source": [
    "### Series Arithematic and fill_value()"
   ]
  },
  {
   "cell_type": "code",
   "execution_count": 28,
   "id": "bbf479a4",
   "metadata": {},
   "outputs": [],
   "source": [
    "# in pandas indices align automatically\n",
    "#inplace = True modifies the series\n",
    "alcohol.sort_index(inplace= True)\n"
   ]
  },
  {
   "cell_type": "code",
   "execution_count": 29,
   "id": "41804af6",
   "metadata": {},
   "outputs": [
    {
     "data": {
      "text/plain": [
       "country\n",
       "Afghanistan      NaN\n",
       "Albania         54.0\n",
       "Algeria         14.0\n",
       "Andorra        312.0\n",
       "Angola          45.0\n",
       "Name: wine_servings, dtype: float64"
      ]
     },
     "execution_count": 29,
     "metadata": {},
     "output_type": "execute_result"
    }
   ],
   "source": [
    "alcohol.head()\n"
   ]
  },
  {
   "cell_type": "code",
   "execution_count": 51,
   "id": "896be9fb",
   "metadata": {},
   "outputs": [],
   "source": [
    "more_drinks = pd.Series({\"Albania\" :11, \"Afghanistan\":24 , \"North korea\":33})"
   ]
  },
  {
   "cell_type": "code",
   "execution_count": 52,
   "id": "1eb2676e",
   "metadata": {},
   "outputs": [
    {
     "data": {
      "text/plain": [
       "Afghanistan     NaN\n",
       "Albania        65.0\n",
       "Algeria         NaN\n",
       "Andorra         NaN\n",
       "Angola          NaN\n",
       "               ... \n",
       "Venezuela       NaN\n",
       "Vietnam         NaN\n",
       "Yemen           NaN\n",
       "Zambia          NaN\n",
       "Zimbabwe        NaN\n",
       "Length: 194, dtype: float64"
      ]
     },
     "execution_count": 52,
     "metadata": {},
     "output_type": "execute_result"
    }
   ],
   "source": [
    "alcohol + more_drinks\n",
    "#as we can see the we added the value 11 to the albania \n",
    "#but  all values becomes NaN\n",
    "#only the key present in both series is added\n",
    "#cannot add the value to NaN of present series"
   ]
  },
  {
   "cell_type": "code",
   "execution_count": 53,
   "id": "5deca8e9",
   "metadata": {},
   "outputs": [
    {
     "data": {
      "text/plain": [
       "Afghanistan     24.0\n",
       "Albania         65.0\n",
       "Algeria         14.0\n",
       "Andorra        312.0\n",
       "Angola          45.0\n",
       "               ...  \n",
       "Venezuela        3.0\n",
       "Vietnam          1.0\n",
       "Yemen            NaN\n",
       "Zambia           4.0\n",
       "Zimbabwe         4.0\n",
       "Length: 194, dtype: float64"
      ]
     },
     "execution_count": 53,
     "metadata": {},
     "output_type": "execute_result"
    }
   ],
   "source": [
    "#to keep the data from the original series we use add method in pandas\n",
    "#we use fill_value parameter fills  a set value of missing keys \n",
    "# to more_drinks and adds the two series\n",
    "alcohol.add(more_drinks, fill_value = 0)"
   ]
  },
  {
   "cell_type": "code",
   "execution_count": 54,
   "id": "e7db5e48",
   "metadata": {},
   "outputs": [
    {
     "data": {
      "text/plain": [
       "Afghanistan    -24.0\n",
       "Albania         43.0\n",
       "Algeria         14.0\n",
       "Andorra        312.0\n",
       "Angola          45.0\n",
       "               ...  \n",
       "Venezuela        3.0\n",
       "Vietnam          1.0\n",
       "Yemen            NaN\n",
       "Zambia           4.0\n",
       "Zimbabwe         4.0\n",
       "Length: 194, dtype: float64"
      ]
     },
     "execution_count": 54,
     "metadata": {},
     "output_type": "execute_result"
    }
   ],
   "source": [
    "#similary other arithematic operator in parameter\n",
    "alcohol.subtract(more_drinks, fill_value = 0)"
   ]
  },
  {
   "cell_type": "code",
   "execution_count": 55,
   "id": "b6d32680",
   "metadata": {},
   "outputs": [
    {
     "data": {
      "text/plain": [
       "Afghanistan      0.041667\n",
       "Albania          4.909091\n",
       "Algeria         14.000000\n",
       "Andorra        312.000000\n",
       "Angola          45.000000\n",
       "                  ...    \n",
       "Venezuela        3.000000\n",
       "Vietnam          1.000000\n",
       "Yemen                 NaN\n",
       "Zambia           4.000000\n",
       "Zimbabwe         4.000000\n",
       "Length: 194, dtype: float64"
      ]
     },
     "execution_count": 55,
     "metadata": {},
     "output_type": "execute_result"
    }
   ],
   "source": [
    "alcohol.divide(more_drinks, fill_value = 1)"
   ]
  },
  {
   "cell_type": "code",
   "execution_count": 57,
   "id": "d338dfc4",
   "metadata": {},
   "outputs": [
    {
     "data": {
      "text/plain": [
       "Afghanistan     24.0\n",
       "Albania        594.0\n",
       "Algeria         14.0\n",
       "Andorra        312.0\n",
       "Angola          45.0\n",
       "               ...  \n",
       "Venezuela        3.0\n",
       "Vietnam          1.0\n",
       "Yemen            NaN\n",
       "Zambia           4.0\n",
       "Zimbabwe         4.0\n",
       "Length: 194, dtype: float64"
      ]
     },
     "execution_count": 57,
     "metadata": {},
     "output_type": "execute_result"
    }
   ],
   "source": [
    "alcohol.multiply(more_drinks, fill_value =1)"
   ]
  },
  {
   "cell_type": "code",
   "execution_count": 58,
   "id": "9635df9b",
   "metadata": {},
   "outputs": [
    {
     "data": {
      "text/plain": [
       "country\n",
       "Afghanistan      NaN\n",
       "Albania         54.0\n",
       "Algeria         14.0\n",
       "Andorra        312.0\n",
       "Angola          45.0\n",
       "Name: wine_servings, dtype: float64"
      ]
     },
     "execution_count": 58,
     "metadata": {},
     "output_type": "execute_result"
    }
   ],
   "source": [
    "alcohol.head()"
   ]
  },
  {
   "cell_type": "code",
   "execution_count": 59,
   "id": "2afea9a8",
   "metadata": {},
   "outputs": [
    {
     "data": {
      "text/plain": [
       "Albania        11\n",
       "Afghanistan    24\n",
       "North korea    33\n",
       "dtype: int64"
      ]
     },
     "execution_count": 59,
     "metadata": {},
     "output_type": "execute_result"
    }
   ],
   "source": [
    "more_drinks.head()\n",
    "#although two series are not aligned pandas arithematic operator align according to labels"
   ]
  },
  {
   "cell_type": "markdown",
   "id": "8dd18bea",
   "metadata": {},
   "source": [
    "### Variance and Standard Deviation\n",
    "s^2 =Sigma(x - Xmean)^2/(n-1)"
   ]
  },
  {
   "cell_type": "code",
   "execution_count": 60,
   "id": "d9432ba1",
   "metadata": {},
   "outputs": [
    {
     "data": {
      "text/plain": [
       "5796.5256115328575"
      ]
     },
     "execution_count": 60,
     "metadata": {},
     "output_type": "execute_result"
    }
   ],
   "source": [
    "alcohol.var()"
   ]
  },
  {
   "cell_type": "code",
   "execution_count": 62,
   "id": "ffa880e1",
   "metadata": {},
   "outputs": [
    {
     "data": {
      "text/plain": [
       "5796.5256115328575"
      ]
     },
     "execution_count": 62,
     "metadata": {},
     "output_type": "execute_result"
    }
   ],
   "source": [
    "(alcohol.subtract(alcohol.mean())**2).sum()/(alcohol.count()-1)"
   ]
  },
  {
   "cell_type": "code",
   "execution_count": 63,
   "id": "c9ac4fe8",
   "metadata": {},
   "outputs": [
    {
     "data": {
      "text/plain": [
       "76.13491716376171"
      ]
     },
     "execution_count": 63,
     "metadata": {},
     "output_type": "execute_result"
    }
   ],
   "source": [
    "# .std() for finding standard variation\n",
    "alcohol.std()"
   ]
  },
  {
   "cell_type": "code",
   "execution_count": null,
   "id": "7fa5ba76",
   "metadata": {},
   "outputs": [],
   "source": []
  }
 ],
 "metadata": {
  "kernelspec": {
   "display_name": "Python 3",
   "language": "python",
   "name": "python3"
  },
  "language_info": {
   "codemirror_mode": {
    "name": "ipython",
    "version": 3
   },
   "file_extension": ".py",
   "mimetype": "text/x-python",
   "name": "python",
   "nbconvert_exporter": "python",
   "pygments_lexer": "ipython3",
   "version": "3.6.9"
  }
 },
 "nbformat": 4,
 "nbformat_minor": 5
}
