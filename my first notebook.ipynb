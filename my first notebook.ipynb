{
 "cells": [
  {
   "cell_type": "code",
   "execution_count": 27,
   "id": "7fc1e1c2",
   "metadata": {},
   "outputs": [],
   "source": [
    "# shift+ enter"
   ]
  },
  {
   "cell_type": "code",
   "execution_count": 28,
   "id": "4d2ce71b",
   "metadata": {},
   "outputs": [
    {
     "data": {
      "text/plain": [
       "8"
      ]
     },
     "execution_count": 28,
     "metadata": {},
     "output_type": "execute_result"
    }
   ],
   "source": [
    "2*4"
   ]
  },
  {
   "cell_type": "code",
   "execution_count": 2,
   "id": "00098db1",
   "metadata": {},
   "outputs": [],
   "source": [
    "import pandas as pd"
   ]
  },
  {
   "cell_type": "code",
   "execution_count": 30,
   "id": "bcdcae82",
   "metadata": {},
   "outputs": [],
   "source": [
    "a_py =[10,20,3,4,5,6]"
   ]
  },
  {
   "cell_type": "code",
   "execution_count": 31,
   "id": "84bbf777",
   "metadata": {},
   "outputs": [
    {
     "data": {
      "text/plain": [
       "numpy.ndarray"
      ]
     },
     "execution_count": 31,
     "metadata": {},
     "output_type": "execute_result"
    }
   ],
   "source": [
    "type(a_py)\n",
    "b_np = np.array([10,20,3,4,5,6])\n",
    "type(b_np)"
   ]
  },
  {
   "cell_type": "code",
   "execution_count": 32,
   "id": "00e95fdc",
   "metadata": {},
   "outputs": [
    {
     "data": {
      "text/plain": [
       "array([10, 20,  3,  4,  5,  6])"
      ]
     },
     "execution_count": 32,
     "metadata": {},
     "output_type": "execute_result"
    }
   ],
   "source": [
    "b_np"
   ]
  },
  {
   "cell_type": "code",
   "execution_count": 33,
   "id": "46fc593d",
   "metadata": {},
   "outputs": [
    {
     "data": {
      "text/plain": [
       "array([100, 200,  30,  40,  50,  60])"
      ]
     },
     "execution_count": 33,
     "metadata": {},
     "output_type": "execute_result"
    }
   ],
   "source": [
    "b_np*10"
   ]
  },
  {
   "cell_type": "markdown",
   "id": "6f99eadb",
   "metadata": {},
   "source": [
    "####  numpy array contains only one data type"
   ]
  },
  {
   "cell_type": "code",
   "execution_count": 34,
   "id": "daf11270",
   "metadata": {},
   "outputs": [],
   "source": [
    "c_np= np.array([1,2,3,4])"
   ]
  },
  {
   "cell_type": "code",
   "execution_count": 35,
   "id": "a54245fc",
   "metadata": {
    "scrolled": true
   },
   "outputs": [
    {
     "data": {
      "text/plain": [
       "dtype('int64')"
      ]
     },
     "execution_count": 35,
     "metadata": {},
     "output_type": "execute_result"
    }
   ],
   "source": [
    "c_np.dtype"
   ]
  },
  {
   "cell_type": "markdown",
   "id": "566da758",
   "metadata": {},
   "source": [
    "### Starting with series \n",
    "#### Changing python list into series"
   ]
  },
  {
   "cell_type": "code",
   "execution_count": 37,
   "id": "2a139a65",
   "metadata": {},
   "outputs": [
    {
     "data": {
      "text/plain": [
       "0       ayush\n",
       "1    ayushman\n",
       "2      ascesh\n",
       "dtype: object"
      ]
     },
     "execution_count": 37,
     "metadata": {},
     "output_type": "execute_result"
    }
   ],
   "source": [
    "students= [\"ayush\",\"ayushman\",'ascesh']\n",
    "pd.Series(students)"
   ]
  },
  {
   "cell_type": "markdown",
   "id": "1a3bef52",
   "metadata": {},
   "source": [
    "#### pd.Series can take different data types"
   ]
  },
  {
   "cell_type": "code",
   "execution_count": 38,
   "id": "f8ddd668",
   "metadata": {},
   "outputs": [
    {
     "data": {
      "text/plain": [
       "0    array\n",
       "1       10\n",
       "2     True\n",
       "dtype: object"
      ]
     },
     "execution_count": 38,
     "metadata": {},
     "output_type": "execute_result"
    }
   ],
   "source": [
    "mixed = ['array', 10, True]\n",
    "pd.Series(mixed)"
   ]
  },
  {
   "cell_type": "code",
   "execution_count": 3,
   "id": "8c05fc91",
   "metadata": {},
   "outputs": [
    {
     "data": {
      "text/plain": [
       "sign     dumb\n",
       "math    brave\n",
       "dtype: object"
      ]
     },
     "execution_count": 3,
     "metadata": {},
     "output_type": "execute_result"
    }
   ],
   "source": [
    "import pandas as pd\n",
    "s_dict = {'sign':\"dumb\", \"math\":\"brave\"}\n",
    "pd.Series(s_dict)"
   ]
  },
  {
   "cell_type": "code",
   "execution_count": null,
   "id": "8b66a9e4",
   "metadata": {},
   "outputs": [],
   "source": []
  }
 ],
 "metadata": {
  "kernelspec": {
   "display_name": "Python 3",
   "language": "python",
   "name": "python3"
  },
  "language_info": {
   "codemirror_mode": {
    "name": "ipython",
    "version": 3
   },
   "file_extension": ".py",
   "mimetype": "text/x-python",
   "name": "python",
   "nbconvert_exporter": "python",
   "pygments_lexer": "ipython3",
   "version": "3.6.9"
  }
 },
 "nbformat": 4,
 "nbformat_minor": 5
}
