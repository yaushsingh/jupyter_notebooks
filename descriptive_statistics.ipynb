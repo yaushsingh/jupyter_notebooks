{
 "cells": [
  {
   "cell_type": "code",
   "execution_count": 1,
   "id": "19974687",
   "metadata": {},
   "outputs": [],
   "source": [
    "import pandas as pd\n",
    "import matplotlib.pyplot as plot\n",
    "alcohol = pd.read_csv('alcohol.csv',usecols=['country','wine_servings'], index_col='country',squeeze= True)"
   ]
  },
  {
   "cell_type": "code",
   "execution_count": 2,
   "id": "5eb3a033",
   "metadata": {},
   "outputs": [
    {
     "data": {
      "text/plain": [
       "8221.0"
      ]
     },
     "execution_count": 2,
     "metadata": {},
     "output_type": "execute_result"
    }
   ],
   "source": [
    "alcohol.sum()"
   ]
  },
  {
   "cell_type": "markdown",
   "id": "d0963d17",
   "metadata": {},
   "source": [
    "## MEAN"
   ]
  },
  {
   "cell_type": "code",
   "execution_count": 3,
   "id": "c86bef89",
   "metadata": {},
   "outputs": [
    {
     "data": {
      "text/plain": [
       "50.74691358024691"
      ]
     },
     "execution_count": 3,
     "metadata": {},
     "output_type": "execute_result"
    }
   ],
   "source": [
    "#we can use\n",
    "# alcohol.sum()/alcohol.count() for excluding null values\n",
    "# alcohol.sum()/alcohol.size for including null values\n",
    "#but \n",
    "# alcohol.sum()/alcohol.size() gives error because we are ttrying to\n",
    "#      call a property of series\n",
    "alcohol.sum()/alcohol.count()"
   ]
  },
  {
   "cell_type": "code",
   "execution_count": 4,
   "id": "bce30d97",
   "metadata": {},
   "outputs": [
    {
     "data": {
      "text/plain": [
       "50.74691358024691"
      ]
     },
     "execution_count": 4,
     "metadata": {},
     "output_type": "execute_result"
    }
   ],
   "source": [
    "# in pandas we can use .mean() method to calc average as\n",
    "alcohol.mean()\n"
   ]
  },
  {
   "cell_type": "markdown",
   "id": "4b15d66d",
   "metadata": {},
   "source": [
    "## MEDIAN"
   ]
  },
  {
   "cell_type": "code",
   "execution_count": 5,
   "id": "28c18bcc",
   "metadata": {},
   "outputs": [
    {
     "data": {
      "text/plain": [
       "11.5"
      ]
     },
     "execution_count": 5,
     "metadata": {},
     "output_type": "execute_result"
    }
   ],
   "source": [
    "alcohol.median()"
   ]
  },
  {
   "cell_type": "markdown",
   "id": "d2da8eb9",
   "metadata": {},
   "source": [
    "### Our mean is much greater than our median that means our data is positively skewed i.e.  there are few countries with large servings and more countries with small servings"
   ]
  },
  {
   "cell_type": "code",
   "execution_count": 6,
   "id": "c12a8674",
   "metadata": {},
   "outputs": [
    {
     "data": {
      "text/plain": [
       "11.5"
      ]
     },
     "execution_count": 6,
     "metadata": {},
     "output_type": "execute_result"
    }
   ],
   "source": [
    "alcohol.quantile(q = .5)"
   ]
  },
  {
   "cell_type": "code",
   "execution_count": 7,
   "id": "2e73e74d",
   "metadata": {},
   "outputs": [
    {
     "data": {
      "text/plain": [
       "3.0"
      ]
     },
     "execution_count": 7,
     "metadata": {},
     "output_type": "execute_result"
    }
   ],
   "source": [
    "alcohol.quantile(.25)"
   ]
  },
  {
   "cell_type": "code",
   "execution_count": 8,
   "id": "37349cd0",
   "metadata": {},
   "outputs": [
    {
     "data": {
      "text/plain": [
       "61.25"
      ]
     },
     "execution_count": 8,
     "metadata": {},
     "output_type": "execute_result"
    }
   ],
   "source": [
    "alcohol.quantile(.75)"
   ]
  },
  {
   "cell_type": "code",
   "execution_count": 9,
   "id": "74193651",
   "metadata": {},
   "outputs": [
    {
     "data": {
      "text/plain": [
       "175.0"
      ]
     },
     "execution_count": 9,
     "metadata": {},
     "output_type": "execute_result"
    }
   ],
   "source": [
    "alcohol.quantile(.9)"
   ]
  },
  {
   "cell_type": "code",
   "execution_count": 16,
   "id": "196bce65",
   "metadata": {},
   "outputs": [
    {
     "data": {
      "text/plain": [
       "Text(0, 0.5, 'new')"
      ]
     },
     "execution_count": 16,
     "metadata": {},
     "output_type": "execute_result"
    },
    {
     "data": {
      "image/png": "[encoded data removed]",
      "text/plain": [
       "<Figure size 432x288 with 1 Axes>"
      ]
     },
     "metadata": {
      "needs_background": "light"
     },
     "output_type": "display_data"
    }
   ],
   "source": [
    "ay = alcohol.hist()\n",
    "ay.set_xlabel('volumes')\n",
    "ay.set_ylabel('new')"
   ]
  },
  {
   "cell_type": "markdown",
   "id": "097319f1",
   "metadata": {},
   "source": [
    "### Here we can see that most of values are on side of low values of the graph"
   ]
  },
  {
   "cell_type": "markdown",
   "id": "e2743771",
   "metadata": {},
   "source": [
    "### IQR : inter Quartile Range"
   ]
  },
  {
   "cell_type": "code",
   "execution_count": 11,
   "id": "02571655",
   "metadata": {},
   "outputs": [
    {
     "data": {
      "text/plain": [
       "58.25"
      ]
     },
     "execution_count": 11,
     "metadata": {},
     "output_type": "execute_result"
    }
   ],
   "source": [
    "iqr = alcohol.quantile(.75)-alcohol.quantile(.25)\n",
    "iqr"
   ]
  },
  {
   "cell_type": "markdown",
   "id": "d1625771",
   "metadata": {},
   "source": [
    "## Standard Deviation"
   ]
  },
  {
   "cell_type": "code",
   "execution_count": 12,
   "id": "9308d641",
   "metadata": {},
   "outputs": [
    {
     "data": {
      "text/plain": [
       "76.13491716376171"
      ]
     },
     "execution_count": 12,
     "metadata": {},
     "output_type": "execute_result"
    }
   ],
   "source": [
    "alcohol.std()"
   ]
  },
  {
   "cell_type": "markdown",
   "id": "faa418d0",
   "metadata": {},
   "source": [
    "### Variance"
   ]
  },
  {
   "cell_type": "code",
   "execution_count": 13,
   "id": "97a2a5e0",
   "metadata": {},
   "outputs": [
    {
     "data": {
      "text/plain": [
       "5796.5256115328575"
      ]
     },
     "execution_count": 13,
     "metadata": {},
     "output_type": "execute_result"
    }
   ],
   "source": [
    "alcohol.var()"
   ]
  },
  {
   "cell_type": "code",
   "execution_count": 14,
   "id": "46bc96b1",
   "metadata": {},
   "outputs": [
    {
     "data": {
      "text/plain": [
       "True"
      ]
     },
     "execution_count": 14,
     "metadata": {},
     "output_type": "execute_result"
    }
   ],
   "source": [
    "alcohol.std()**2 == alcohol.var()"
   ]
  },
  {
   "cell_type": "code",
   "execution_count": null,
   "id": "26164504",
   "metadata": {},
   "outputs": [],
   "source": []
  }
 ],
 "metadata": {
  "kernelspec": {
   "display_name": "Python 3",
   "language": "python",
   "name": "python3"
  },
  "language_info": {
   "codemirror_mode": {
    "name": "ipython",
    "version": 3
   },
   "file_extension": ".py",
   "mimetype": "text/x-python",
   "name": "python",
   "nbconvert_exporter": "python",
   "pygments_lexer": "ipython3",
   "version": "3.6.9"
  }
 },
 "nbformat": 4,
 "nbformat_minor": 5
}
