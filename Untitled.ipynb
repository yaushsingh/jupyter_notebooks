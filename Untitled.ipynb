{
 "cells": [
  {
   "cell_type": "code",
   "execution_count": 10,
   "id": "951bceb6",
   "metadata": {},
   "outputs": [],
   "source": [
    "import pandas as pd\n",
    "actor_names = ['rajesh','biraj', 'paul','bipin']\n",
    "actor_ages = [52,45,30,34]"
   ]
  },
  {
   "cell_type": "code",
   "execution_count": 11,
   "id": "e2726ea7",
   "metadata": {},
   "outputs": [],
   "source": [
    "series1 = pd.Series(actor_ages, index = actor_names)"
   ]
  },
  {
   "cell_type": "code",
   "execution_count": 12,
   "id": "066c5fbb",
   "metadata": {},
   "outputs": [
    {
     "data": {
      "text/plain": [
       "rajesh    52\n",
       "biraj     45\n",
       "paul      30\n",
       "bipin     34\n",
       "dtype: int64"
      ]
     },
     "execution_count": 12,
     "metadata": {},
     "output_type": "execute_result"
    }
   ],
   "source": [
    "series1"
   ]
  },
  {
   "cell_type": "code",
   "execution_count": 13,
   "id": "4fd6b541",
   "metadata": {},
   "outputs": [
    {
     "data": {
      "text/plain": [
       "Index(['rajesh', 'biraj', 'paul', 'bipin'], dtype='object')"
      ]
     },
     "execution_count": 13,
     "metadata": {},
     "output_type": "execute_result"
    }
   ],
   "source": [
    "series1.index"
   ]
  },
  {
   "cell_type": "markdown",
   "id": "734e055c",
   "metadata": {},
   "source": [
    "#### converting two list into sigle array we use zip fucntion"
   ]
  },
  {
   "cell_type": "code",
   "execution_count": 25,
   "id": "23b95ea2",
   "metadata": {},
   "outputs": [
    {
     "data": {
      "text/plain": [
       "{'rajesh': 52, 'biraj': 45, 'paul': 30, 'bipin': 34}"
      ]
     },
     "execution_count": 25,
     "metadata": {},
     "output_type": "execute_result"
    }
   ],
   "source": [
    "new = dict(zip(actor_names,actor_ages))"
   ]
  },
  {
   "cell_type": "code",
   "execution_count": 26,
   "id": "19aa43d1",
   "metadata": {},
   "outputs": [
    {
     "data": {
      "text/plain": [
       "rajesh    52\n",
       "biraj     45\n",
       "paul      30\n",
       "bipin     34\n",
       "dtype: int64"
      ]
     },
     "execution_count": 26,
     "metadata": {},
     "output_type": "execute_result"
    }
   ],
   "source": [
    "pd.Series(new)"
   ]
  },
  {
   "cell_type": "code",
   "execution_count": null,
   "id": "6fc79819",
   "metadata": {},
   "outputs": [],
   "source": []
  }
 ],
 "metadata": {
  "kernelspec": {
   "display_name": "Python 3",
   "language": "python",
   "name": "python3"
  },
  "language_info": {
   "codemirror_mode": {
    "name": "ipython",
    "version": 3
   },
   "file_extension": ".py",
   "mimetype": "text/x-python",
   "name": "python",
   "nbconvert_exporter": "python",
   "pygments_lexer": "ipython3",
   "version": "3.6.9"
  }
 },
 "nbformat": 4,
 "nbformat_minor": 5
}
