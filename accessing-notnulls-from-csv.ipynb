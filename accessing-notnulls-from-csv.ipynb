{
 "cells": [
  {
   "cell_type": "code",
   "execution_count": 12,
   "id": "aabefe97",
   "metadata": {},
   "outputs": [],
   "source": [
    "import numpy as np\n",
    "import pandas as pd\n",
    "alcohol = pd.read_csv('alcohol.csv', usecols =['country','spirit_servings'],index_col = \"country\", squeeze = True)"
   ]
  },
  {
   "cell_type": "code",
   "execution_count": 6,
   "id": "adfe09cd",
   "metadata": {},
   "outputs": [
    {
     "data": {
      "text/plain": [
       "<ufunc 'isnan'>"
      ]
     },
     "execution_count": 6,
     "metadata": {},
     "output_type": "execute_result"
    }
   ],
   "source": [
    "#unfunc -> universal function\n",
    "np.isnan"
   ]
  },
  {
   "cell_type": "code",
   "execution_count": 9,
   "id": "ae25504b",
   "metadata": {},
   "outputs": [],
   "source": [
    "\n",
    "ser = pd.Series(data = [True, False, None, 2], dtype= float )"
   ]
  },
  {
   "cell_type": "code",
   "execution_count": 10,
   "id": "b061ec47",
   "metadata": {},
   "outputs": [
    {
     "data": {
      "text/plain": [
       "0    False\n",
       "1    False\n",
       "2     True\n",
       "3    False\n",
       "dtype: bool"
      ]
     },
     "execution_count": 10,
     "metadata": {},
     "output_type": "execute_result"
    }
   ],
   "source": [
    "np.isnan(ser)"
   ]
  },
  {
   "cell_type": "code",
   "execution_count": 14,
   "id": "8938a894",
   "metadata": {},
   "outputs": [
    {
     "data": {
      "text/plain": [
       "country\n",
       "Afghanistan         NaN\n",
       "Algeria             NaN\n",
       "Bangladesh          NaN\n",
       "Bhutan              NaN\n",
       "Burundi             NaN\n",
       "North Korea         NaN\n",
       "Equatorial Guinea   NaN\n",
       "Eritrea             NaN\n",
       "Gambia              NaN\n",
       "Guinea              NaN\n",
       "Iran                NaN\n",
       "Kuwait              NaN\n",
       "Laos                NaN\n",
       "Libya               NaN\n",
       "Maldives            NaN\n",
       "Marshall Islands    NaN\n",
       "Mauritania          NaN\n",
       "Monaco              NaN\n",
       "Nauru               NaN\n",
       "Pakistan            NaN\n",
       "San Marino          NaN\n",
       "Somalia             NaN\n",
       "Yemen               NaN\n",
       "Name: spirit_servings, dtype: float64"
      ]
     },
     "execution_count": 14,
     "metadata": {},
     "output_type": "execute_result"
    }
   ],
   "source": [
    "# .isnan in numpy returns Boolean\n",
    "#performing indexing by callable\n",
    "alcohol[np.isnan]"
   ]
  },
  {
   "cell_type": "code",
   "execution_count": 15,
   "id": "278f70b3",
   "metadata": {},
   "outputs": [
    {
     "data": {
      "text/plain": [
       "23"
      ]
     },
     "execution_count": 15,
     "metadata": {},
     "output_type": "execute_result"
    }
   ],
   "source": [
    "alcohol[np.isnan].size"
   ]
  },
  {
   "cell_type": "code",
   "execution_count": 18,
   "id": "2ae5256d",
   "metadata": {},
   "outputs": [
    {
     "data": {
      "text/plain": [
       "country\n",
       "Afghanistan    False\n",
       "Albania         True\n",
       "Algeria        False\n",
       "Andorra         True\n",
       "Angola          True\n",
       "               ...  \n",
       "Venezuela       True\n",
       "Vietnam         True\n",
       "Yemen          False\n",
       "Zambia          True\n",
       "Zimbabwe        True\n",
       "Name: spirit_servings, Length: 193, dtype: bool"
      ]
     },
     "execution_count": 18,
     "metadata": {},
     "output_type": "execute_result"
    }
   ],
   "source": [
    "alcohol.notnull()"
   ]
  },
  {
   "cell_type": "code",
   "execution_count": 22,
   "id": "a4fffaa2",
   "metadata": {},
   "outputs": [
    {
     "data": {
      "text/plain": [
       "country\n",
       "Albania              132.0\n",
       "Andorra              138.0\n",
       "Angola                57.0\n",
       "Antigua & Barbuda    128.0\n",
       "Argentina             25.0\n",
       "                     ...  \n",
       "Vanuatu               18.0\n",
       "Venezuela              1.0\n",
       "Vietnam                2.0\n",
       "Zambia                19.0\n",
       "Zimbabwe              18.0\n",
       "Name: spirit_servings, Length: 170, dtype: float64"
      ]
     },
     "execution_count": 22,
     "metadata": {},
     "output_type": "execute_result"
    }
   ],
   "source": [
    "alcohol.loc[alcohol.notnull()]"
   ]
  },
  {
   "cell_type": "code",
   "execution_count": 23,
   "id": "8988e93e",
   "metadata": {},
   "outputs": [
    {
     "data": {
      "text/plain": [
       "170"
      ]
     },
     "execution_count": 23,
     "metadata": {},
     "output_type": "execute_result"
    }
   ],
   "source": [
    "alcohol.notnull().sum()"
   ]
  },
  {
   "cell_type": "code",
   "execution_count": 24,
   "id": "8f0071c2",
   "metadata": {},
   "outputs": [
    {
     "data": {
      "text/plain": [
       "170"
      ]
     },
     "execution_count": 24,
     "metadata": {},
     "output_type": "execute_result"
    }
   ],
   "source": [
    "alcohol.count()"
   ]
  },
  {
   "cell_type": "code",
   "execution_count": 25,
   "id": "2785c16f",
   "metadata": {},
   "outputs": [
    {
     "data": {
      "text/plain": [
       "True"
      ]
     },
     "execution_count": 25,
     "metadata": {},
     "output_type": "execute_result"
    }
   ],
   "source": [
    "#checking the count of null and non-null values\n",
    "alcohol.isnull().sum() + alcohol.notnull().sum() == alcohol.size"
   ]
  },
  {
   "cell_type": "code",
   "execution_count": 30,
   "id": "2d7184b7",
   "metadata": {},
   "outputs": [
    {
     "data": {
      "text/plain": [
       "True"
      ]
     },
     "execution_count": 30,
     "metadata": {},
     "output_type": "execute_result"
    }
   ],
   "source": [
    "alcohol.notna().sum() + alcohol.isna().sum() == alcohol.size"
   ]
  },
  {
   "cell_type": "code",
   "execution_count": 31,
   "id": "ba16cdde",
   "metadata": {},
   "outputs": [
    {
     "data": {
      "text/plain": [
       "bool"
      ]
     },
     "execution_count": 31,
     "metadata": {},
     "output_type": "execute_result"
    }
   ],
   "source": [
    "type(True)"
   ]
  },
  {
   "cell_type": "code",
   "execution_count": 33,
   "id": "78752348",
   "metadata": {},
   "outputs": [
    {
     "data": {
      "text/plain": [
       "(bool, int, object)"
      ]
     },
     "execution_count": 33,
     "metadata": {},
     "output_type": "execute_result"
    }
   ],
   "source": [
    "#method resolution order\n",
    "bool.__mro__"
   ]
  },
  {
   "cell_type": "code",
   "execution_count": null,
   "id": "0ecb5d0b",
   "metadata": {},
   "outputs": [],
   "source": []
  }
 ],
 "metadata": {
  "kernelspec": {
   "display_name": "Python 3",
   "language": "python",
   "name": "python3"
  },
  "language_info": {
   "codemirror_mode": {
    "name": "ipython",
    "version": 3
   },
   "file_extension": ".py",
   "mimetype": "text/x-python",
   "name": "python",
   "nbconvert_exporter": "python",
   "pygments_lexer": "ipython3",
   "version": "3.6.9"
  }
 },
 "nbformat": 4,
 "nbformat_minor": 5
}
