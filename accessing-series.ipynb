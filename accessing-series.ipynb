{
 "cells": [
  {
   "cell_type": "code",
   "execution_count": 4,
   "id": "951bceb6",
   "metadata": {},
   "outputs": [],
   "source": [
    "import pandas as pd\n",
    "actor_names = ['rajesh','biraj', 'paul','bipin']\n",
    "actor_ages = [52,45,30,34]"
   ]
  },
  {
   "cell_type": "code",
   "execution_count": 5,
   "id": "e2726ea7",
   "metadata": {},
   "outputs": [],
   "source": [
    "series1 = pd.Series(actor_ages, index = actor_names)"
   ]
  },
  {
   "cell_type": "code",
   "execution_count": 6,
   "id": "066c5fbb",
   "metadata": {},
   "outputs": [
    {
     "data": {
      "text/plain": [
       "rajesh    52\n",
       "biraj     45\n",
       "paul      30\n",
       "bipin     34\n",
       "dtype: int64"
      ]
     },
     "execution_count": 6,
     "metadata": {},
     "output_type": "execute_result"
    }
   ],
   "source": [
    "series1"
   ]
  },
  {
   "cell_type": "code",
   "execution_count": 7,
   "id": "9e053dd7",
   "metadata": {},
   "outputs": [
    {
     "data": {
      "text/plain": [
       "Index(['rajesh', 'biraj', 'paul', 'bipin'], dtype='object')"
      ]
     },
     "execution_count": 7,
     "metadata": {},
     "output_type": "execute_result"
    }
   ],
   "source": [
    "series1.index"
   ]
  },
  {
   "cell_type": "markdown",
   "id": "26053a9b",
   "metadata": {},
   "source": [
    "#### converting two list into sigle array we use zip fucntion"
   ]
  },
  {
   "cell_type": "code",
   "execution_count": 8,
   "id": "ebb9cd64",
   "metadata": {},
   "outputs": [],
   "source": [
    "new = dict(zip(actor_names,actor_ages))"
   ]
  },
  {
   "cell_type": "code",
   "execution_count": 9,
   "id": "b414a233",
   "metadata": {},
   "outputs": [
    {
     "data": {
      "text/plain": [
       "rajesh    52\n",
       "biraj     45\n",
       "paul      30\n",
       "bipin     34\n",
       "dtype: int64"
      ]
     },
     "execution_count": 9,
     "metadata": {},
     "output_type": "execute_result"
    }
   ],
   "source": [
    "pd.Series(new)"
   ]
  },
  {
   "cell_type": "markdown",
   "id": "8fd456c4",
   "metadata": {},
   "source": [
    "#### Head and tails method for the series data"
   ]
  },
  {
   "cell_type": "code",
   "execution_count": 10,
   "id": "c702ba9e",
   "metadata": {},
   "outputs": [],
   "source": [
    "#pd.Series(i for i in range (60))\n",
    "#we can use range only for pd.Series\n",
    "int_series = pd.Series(range(60))"
   ]
  },
  {
   "cell_type": "code",
   "execution_count": 11,
   "id": "7abb2dc7",
   "metadata": {},
   "outputs": [
    {
     "data": {
      "text/plain": [
       "60"
      ]
     },
     "execution_count": 11,
     "metadata": {},
     "output_type": "execute_result"
    }
   ],
   "source": [
    "int_series.size"
   ]
  },
  {
   "cell_type": "code",
   "execution_count": 12,
   "id": "c6d51862",
   "metadata": {},
   "outputs": [
    {
     "data": {
      "text/plain": [
       "60"
      ]
     },
     "execution_count": 12,
     "metadata": {},
     "output_type": "execute_result"
    }
   ],
   "source": [
    " len(int_series)"
   ]
  },
  {
   "cell_type": "markdown",
   "id": "d5ec8fba",
   "metadata": {},
   "source": [
    "#### if we want only some portion of whole data"
   ]
  },
  {
   "cell_type": "code",
   "execution_count": 13,
   "id": "62b34ba0",
   "metadata": {},
   "outputs": [
    {
     "data": {
      "text/plain": [
       "0    0\n",
       "1    1\n",
       "2    2\n",
       "3    3\n",
       "4    4\n",
       "dtype: int64"
      ]
     },
     "execution_count": 13,
     "metadata": {},
     "output_type": "execute_result"
    }
   ],
   "source": [
    "int_series.head()"
   ]
  },
  {
   "cell_type": "code",
   "execution_count": 14,
   "id": "1d0e1b35",
   "metadata": {},
   "outputs": [
    {
     "data": {
      "text/plain": [
       "55    55\n",
       "56    56\n",
       "57    57\n",
       "58    58\n",
       "59    59\n",
       "dtype: int64"
      ]
     },
     "execution_count": 14,
     "metadata": {},
     "output_type": "execute_result"
    }
   ],
   "source": [
    "int_series.tail()"
   ]
  },
  {
   "cell_type": "code",
   "execution_count": 15,
   "id": "a5f8aee5",
   "metadata": {},
   "outputs": [
    {
     "data": {
      "text/plain": [
       "0    0\n",
       "1    1\n",
       "2    2\n",
       "dtype: int64"
      ]
     },
     "execution_count": 15,
     "metadata": {},
     "output_type": "execute_result"
    }
   ],
   "source": [
    "#we can also tell how many record we want to see\n",
    "int_series.head(n = 3)"
   ]
  },
  {
   "cell_type": "code",
   "execution_count": 16,
   "id": "3395e343",
   "metadata": {},
   "outputs": [
    {
     "data": {
      "text/plain": [
       "53    53\n",
       "54    54\n",
       "55    55\n",
       "56    56\n",
       "57    57\n",
       "58    58\n",
       "59    59\n",
       "dtype: int64"
      ]
     },
     "execution_count": 16,
     "metadata": {},
     "output_type": "execute_result"
    }
   ],
   "source": [
    "int_series.tail(n= 7)"
   ]
  },
  {
   "cell_type": "markdown",
   "id": "22d0b4e5",
   "metadata": {},
   "source": [
    "#### Extracting data by index Position "
   ]
  },
  {
   "cell_type": "code",
   "execution_count": 17,
   "id": "293f4631",
   "metadata": {},
   "outputs": [],
   "source": [
    "from string import ascii_lowercase"
   ]
  },
  {
   "cell_type": "code",
   "execution_count": 18,
   "id": "aa9fe5bf",
   "metadata": {},
   "outputs": [
    {
     "data": {
      "text/plain": [
       "0    abcdefghijklmnopqrstuvwxyz\n",
       "dtype: object"
      ]
     },
     "execution_count": 18,
     "metadata": {},
     "output_type": "execute_result"
    }
   ],
   "source": [
    "pd.Series(ascii_lowercase)"
   ]
  },
  {
   "cell_type": "code",
   "execution_count": 19,
   "id": "4740e46e",
   "metadata": {},
   "outputs": [],
   "source": [
    "letters = list(ascii_lowercase)\n"
   ]
  },
  {
   "cell_type": "code",
   "execution_count": 20,
   "id": "16c49d80",
   "metadata": {},
   "outputs": [
    {
     "data": {
      "text/plain": [
       "0    a\n",
       "1    b\n",
       "2    c\n",
       "dtype: object"
      ]
     },
     "execution_count": 20,
     "metadata": {},
     "output_type": "execute_result"
    }
   ],
   "source": [
    "#creating panda series from list named as letters\n",
    "alphabet = pd.Series(letters)\n",
    "alphabet.head(3)"
   ]
  },
  {
   "cell_type": "code",
   "execution_count": 21,
   "id": "27a287e9",
   "metadata": {},
   "outputs": [
    {
     "data": {
      "text/plain": [
       "'a'"
      ]
     },
     "execution_count": 21,
     "metadata": {},
     "output_type": "execute_result"
    }
   ],
   "source": [
    "#1 what is first letter?\n",
    "#2 What is 11th letter?\n",
    "#3 what is first four letter?\n",
    "#4 what are the 10th to 15th letters?\n",
    "#5 what are last 10th letters?\n",
    "#1\n",
    "alphabet[0]"
   ]
  },
  {
   "cell_type": "code",
   "execution_count": 22,
   "id": "ec2556c8",
   "metadata": {},
   "outputs": [
    {
     "data": {
      "text/plain": [
       "'k'"
      ]
     },
     "execution_count": 22,
     "metadata": {},
     "output_type": "execute_result"
    }
   ],
   "source": [
    "#2\n",
    "alphabet[10]"
   ]
  },
  {
   "cell_type": "code",
   "execution_count": 23,
   "id": "7836fb26",
   "metadata": {},
   "outputs": [
    {
     "data": {
      "text/plain": [
       "0    a\n",
       "1    b\n",
       "2    c\n",
       "dtype: object"
      ]
     },
     "execution_count": 23,
     "metadata": {},
     "output_type": "execute_result"
    }
   ],
   "source": [
    "#pandas series can also be indexed as python lists\n",
    "#3\n",
    "alphabet[:3]"
   ]
  },
  {
   "cell_type": "code",
   "execution_count": 24,
   "id": "3c4b26ea",
   "metadata": {},
   "outputs": [
    {
     "data": {
      "text/plain": [
       "9     j\n",
       "10    k\n",
       "11    l\n",
       "12    m\n",
       "13    n\n",
       "14    o\n",
       "dtype: object"
      ]
     },
     "execution_count": 24,
     "metadata": {},
     "output_type": "execute_result"
    }
   ],
   "source": [
    "#4\n",
    "alphabet[9 : 15]"
   ]
  },
  {
   "cell_type": "code",
   "execution_count": 25,
   "id": "0ee2052f",
   "metadata": {},
   "outputs": [
    {
     "data": {
      "text/plain": [
       "16    q\n",
       "17    r\n",
       "18    s\n",
       "19    t\n",
       "20    u\n",
       "21    v\n",
       "22    w\n",
       "23    x\n",
       "24    y\n",
       "25    z\n",
       "dtype: object"
      ]
     },
     "execution_count": 25,
     "metadata": {},
     "output_type": "execute_result"
    }
   ],
   "source": [
    "#5\n",
    "alphabet[-10:]"
   ]
  },
  {
   "cell_type": "markdown",
   "id": "5e961688",
   "metadata": {},
   "source": [
    "#### accessing value using index label"
   ]
  },
  {
   "cell_type": "code",
   "execution_count": 26,
   "id": "7ab05ec5",
   "metadata": {},
   "outputs": [],
   "source": [
    "from string import ascii_uppercase\n",
    "labeled_alphabet = pd.Series(data = letters) \n",
    "#labeled_alphabet = pd.Series(data= letters, index = map(lambda x:\"label_\"+x,list(ascii_uppercase))) \n",
    "#built in .add_prefix(\"\") can edit labels or .add_suffix()\n",
    "labeled_alphabet = labeled_alphabet.add_prefix(\"ayush_\")"
   ]
  },
  {
   "cell_type": "code",
   "execution_count": 27,
   "id": "b6ef5651",
   "metadata": {},
   "outputs": [
    {
     "data": {
      "text/plain": [
       "ayush_0    a\n",
       "ayush_1    b\n",
       "ayush_2    c\n",
       "dtype: object"
      ]
     },
     "execution_count": 27,
     "metadata": {},
     "output_type": "execute_result"
    }
   ],
   "source": [
    "labeled_alphabet.head(3)"
   ]
  },
  {
   "cell_type": "code",
   "execution_count": 28,
   "id": "be46d5e9",
   "metadata": {},
   "outputs": [
    {
     "data": {
      "text/plain": [
       "'a'"
      ]
     },
     "execution_count": 28,
     "metadata": {},
     "output_type": "execute_result"
    }
   ],
   "source": [
    " # indexing by position\n",
    "labeled_alphabet[3]\n",
    "#indexing by label\n",
    "labeled_alphabet['ayush_0']"
   ]
  },
  {
   "cell_type": "code",
   "execution_count": 29,
   "id": "4ff416fb",
   "metadata": {},
   "outputs": [
    {
     "data": {
      "text/plain": [
       "ayush_0    a\n",
       "ayush_1    b\n",
       "ayush_2    c\n",
       "ayush_3    d\n",
       "ayush_4    e\n",
       "dtype: object"
      ]
     },
     "execution_count": 29,
     "metadata": {},
     "output_type": "execute_result"
    }
   ],
   "source": [
    "labeled_alphabet[:'ayush_4']\n",
    "#doesnot exclude \"label_D\" while in position indexing 4th element\n",
    "#from [:4 ] is excluded"
   ]
  },
  {
   "cell_type": "code",
   "execution_count": 30,
   "id": "e88eba31",
   "metadata": {},
   "outputs": [
    {
     "data": {
      "text/plain": [
       "'e'"
      ]
     },
     "execution_count": 30,
     "metadata": {},
     "output_type": "execute_result"
    }
   ],
   "source": [
    "#can use dot notation as well but is limited \n",
    "labeled_alphabet.ayush_4"
   ]
  },
  {
   "cell_type": "code",
   "execution_count": 31,
   "id": "09b2e8d8",
   "metadata": {},
   "outputs": [
    {
     "data": {
      "text/plain": [
       "ayush_1     b\n",
       "ayush_3     d\n",
       "ayush_5     f\n",
       "ayush_7     h\n",
       "ayush_9     j\n",
       "ayush_11    l\n",
       "ayush_13    n\n",
       "ayush_15    p\n",
       "ayush_17    r\n",
       "ayush_19    t\n",
       "ayush_21    v\n",
       "ayush_23    x\n",
       "ayush_25    z\n",
       "dtype: object"
      ]
     },
     "execution_count": 31,
     "metadata": {},
     "output_type": "execute_result"
    }
   ],
   "source": [
    "#boolean expression to access the data\n",
    "#boolean index must match index of series\n",
    "labeled_alphabet.loc[[True if i%2 != 0 else False for i in range(26)]]"
   ]
  },
  {
   "cell_type": "markdown",
   "id": "c7ab7b72",
   "metadata": {},
   "source": [
    "#### Accessing using callables"
   ]
  },
  {
   "cell_type": "code",
   "execution_count": 35,
   "id": "fe1f97ba",
   "metadata": {},
   "outputs": [
    {
     "data": {
      "text/plain": [
       "ayush_0     a\n",
       "ayush_1     b\n",
       "ayush_2     c\n",
       "ayush_3     d\n",
       "ayush_4     e\n",
       "ayush_5     f\n",
       "ayush_6     g\n",
       "ayush_7     h\n",
       "ayush_8     i\n",
       "ayush_9     j\n",
       "ayush_10    k\n",
       "ayush_11    l\n",
       "ayush_12    m\n",
       "ayush_13    n\n",
       "ayush_14    o\n",
       "ayush_15    p\n",
       "ayush_16    q\n",
       "ayush_17    r\n",
       "ayush_18    s\n",
       "ayush_19    t\n",
       "ayush_20    u\n",
       "ayush_21    v\n",
       "ayush_22    w\n",
       "ayush_23    x\n",
       "ayush_24    y\n",
       "ayush_25    z\n",
       "dtype: object"
      ]
     },
     "execution_count": 35,
     "metadata": {},
     "output_type": "execute_result"
    }
   ],
   "source": [
    "labeled_alphabet.loc[lambda x: ['ayush_23','ayush_14']]\n",
    "#boolean mask\n",
    "#x in lambda x takes the whole series\n",
    "labeled_alphabet.loc[lambda x: [True for i in range(x.size)]]"
   ]
  },
  {
   "cell_type": "code",
   "execution_count": 41,
   "id": "e22c5770",
   "metadata": {},
   "outputs": [],
   "source": [
    "#x takes the whole series\n",
    "def every_third(x):\n",
    "    return [True if (i+1)%3==0 else False for i in range(x.size)]\n",
    "#since x starts from zero we can add 1 for the better result"
   ]
  },
  {
   "cell_type": "code",
   "execution_count": 42,
   "id": "50bc318e",
   "metadata": {},
   "outputs": [
    {
     "data": {
      "text/plain": [
       "ayush_2     c\n",
       "ayush_5     f\n",
       "ayush_8     i\n",
       "ayush_11    l\n",
       "ayush_14    o\n",
       "ayush_17    r\n",
       "ayush_20    u\n",
       "ayush_23    x\n",
       "dtype: object"
      ]
     },
     "execution_count": 42,
     "metadata": {},
     "output_type": "execute_result"
    }
   ],
   "source": [
    "labeled_alphabet.iloc[every_third] \n",
    "#passing a boolean list from the function every_third instead of using \n",
    "#lambda x"
   ]
  },
  {
   "cell_type": "markdown",
   "id": "9796fe81",
   "metadata": {},
   "source": [
    "#### Selecting with get() method"
   ]
  },
  {
   "cell_type": "code",
   "execution_count": 47,
   "id": "00f0c694",
   "metadata": {},
   "outputs": [
    {
     "data": {
      "text/plain": [
       "'cannot find label'"
      ]
     },
     "execution_count": 47,
     "metadata": {},
     "output_type": "execute_result"
    }
   ],
   "source": [
    "# .get() can give infromation if label doesnot exist\n",
    "#if label is not found loc and iloc will give keyError\n",
    "labeled_alphabet.get('label_nonexisting', default = \"cannot find label\")"
   ]
  },
  {
   "cell_type": "code",
   "execution_count": null,
   "id": "ecf8f696",
   "metadata": {},
   "outputs": [],
   "source": []
  }
 ],
 "metadata": {
  "kernelspec": {
   "display_name": "Python 3",
   "language": "python",
   "name": "python3"
  },
  "language_info": {
   "codemirror_mode": {
    "name": "ipython",
    "version": 3
   },
   "file_extension": ".py",
   "mimetype": "text/x-python",
   "name": "python",
   "nbconvert_exporter": "python",
   "pygments_lexer": "ipython3",
   "version": "3.6.9"
  }
 },
 "nbformat": 4,
 "nbformat_minor": 5
}
